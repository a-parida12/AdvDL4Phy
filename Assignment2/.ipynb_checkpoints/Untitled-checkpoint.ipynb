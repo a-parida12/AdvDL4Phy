{
 "cells": [
  {
   "cell_type": "code",
   "execution_count": null,
   "metadata": {
    "collapsed": true
   },
   "outputs": [],
   "source": [
    "\n",
    "\n",
    "\n",
    "\n",
    "\n"
   ]
  },
  {
   "cell_type": "code",
   "execution_count": 1,
   "metadata": {},
   "outputs": [
    {
     "name": "stderr",
     "output_type": "stream",
     "text": [
      "/home/a_parida/anaconda3/lib/python3.6/importlib/_bootstrap.py:219: RuntimeWarning: compiletime version 3.5 of module 'tensorflow.python.framework.fast_tensor_util' does not match runtime version 3.6\n",
      "  return f(*args, **kwds)\n"
     ]
    }
   ],
   "source": [
    "import tensorflow as tf\n",
    "import numpy as np\n",
    "import sys\n",
    "sys.path.append(\"/home/a_parida/MantaFlow/manta/tensorflow/tools/\")\n",
    "import uniio\n",
    "import glob\n",
    "basePath = 'data/'"
   ]
  },
  {
   "cell_type": "code",
   "execution_count": 2,
   "metadata": {
    "collapsed": true
   },
   "outputs": [],
   "source": [
    "trainingEpochs = 10000\n",
    "batchSize      = 10\n",
    "inSize         = 64 * 64 * 1"
   ]
  },
  {
   "cell_type": "code",
   "execution_count": 3,
   "metadata": {
    "collapsed": true
   },
   "outputs": [],
   "source": [
    "vel_files= glob.glob('./data/**/*.uni', recursive=True)\n",
    "# load data\n",
    "velocities = []"
   ]
  },
  {
   "cell_type": "code",
   "execution_count": 5,
   "metadata": {},
   "outputs": [
    {
     "name": "stdout",
     "output_type": "stream",
     "text": [
      "Read uni files, total data (1200, 64, 64, 2)\n",
      "Split into 1080 training and 120 validation samples\n"
     ]
    }
   ],
   "source": [
    "for uniPath in vel_files:\n",
    "    header, content = uniio.readUni(uniPath)# returns [Z,Y,X,C] np array\n",
    "    h = header['dimX']\n",
    "    w  = header['dimY']\n",
    "    arr = content[:, ::-1, :, :]  # reverse order of Y axis\n",
    "    arr = np.reshape(arr, [w, h, 3])\n",
    "    arr=arr[:,:,1:]# discard Z from [Z,Y,X]\n",
    "    velocities.append( arr )\n",
    "    \n",
    "loadNum = len(velocities)\n",
    "if loadNum<200:\n",
    "\tprint(\"Error - use at least two full sims, generate data by running 'manta ./manta_genSimSimple.py' a few times...\"); exit(1)\n",
    "\n",
    "velocities = np.reshape( velocities, (len(velocities), 64,64,2) )\n",
    "\n",
    "print(\"Read uni files, total data \" + format(velocities.shape) )\n",
    "valiSize = max(100, int(loadNum * 0.1)) # at least 1 full sim...\n",
    "valiData = velocities[loadNum-valiSize:loadNum,:]\n",
    "velocities  = velocities[0:loadNum-valiSize,:]\n",
    "print(\"Split into %d training and %d validation samples\" % (velocities.shape[0], valiData.shape[0]) )\n",
    "loadNum = velocities.shape[0]"
   ]
  },
  {
   "cell_type": "code",
   "execution_count": 6,
   "metadata": {
    "collapsed": true
   },
   "outputs": [],
   "source": [
    "def convolution2d(input, biases, weights, strides, padding_kind='SAME'):\n",
    "    input = tf.nn.conv2d(input, weights, strides, padding=padding_kind)\n",
    "    input = tf.nn.bias_add(input, biases)\n",
    "    input = tf.nn.leaky_relu(input)\n",
    "    return input"
   ]
  },
  {
   "cell_type": "code",
   "execution_count": 35,
   "metadata": {
    "collapsed": true
   },
   "outputs": [],
   "source": [
    "# the network structure \n",
    "xIn = tf.placeholder(tf.float32, shape=[None, 64,64, 2])\n",
    "y = tf.placeholder(tf.float32, shape=[None, 64,64,2])\n",
    "xOut=tf.reshape(y, shape=[-1, 64*64*2])"
   ]
  },
  {
   "cell_type": "code",
   "execution_count": 36,
   "metadata": {},
   "outputs": [],
   "source": [
    "weights1=tf.Variable(tf.random_normal([64,64,2,2], stddev=0.01))#weights==filters\n",
    "#[filter_height, filter_width, in_channels, out_channels]\n",
    "#bias=out_channels\n",
    "bias1=tf.Variable(tf.random_normal([2], stddev=0.01))\n",
    "stride1=[1,4,4,1]\n",
    "out1=convolution2d(xIn,bias1,weights1,stride1)"
   ]
  },
  {
   "cell_type": "code",
   "execution_count": 37,
   "metadata": {},
   "outputs": [],
   "source": [
    "weights2=tf.Variable(tf.random_normal([16,16,2,4], stddev=0.01))#weights==filters\n",
    "#[filter_height, filter_width, in_channels, out_channels]\n",
    "#bias=out_channels\n",
    "bias2=tf.Variable(tf.random_normal([4], stddev=0.01))\n",
    "stride2=[1,4,4,1]\n",
    "out2=convolution2d(out1,bias2,weights2,stride2)"
   ]
  },
  {
   "cell_type": "code",
   "execution_count": 38,
   "metadata": {},
   "outputs": [],
   "source": [
    "out2 = tf.reshape(out2, shape=[-1, 64 ]) # flatten\n",
    "fc_1weights = tf.Variable(tf.random_normal([64, 64*64*2], stddev=0.01))\n",
    "fc_1bias   = tf.Variable(tf.random_normal([64*64*2], stddev=0.01))\n",
    "fc1 = tf.add(tf.matmul(out2, fc_1weights), fc_1bias)\n",
    "fc1 = tf.nn.tanh(fc1)\n"
   ]
  },
  {
   "cell_type": "code",
   "execution_count": 39,
   "metadata": {},
   "outputs": [],
   "source": [
    "cost = tf.nn.l2_loss(fc1 - xOut)\n",
    "opt  = tf.train.AdamOptimizer(0.0001).minimize(cost)\n"
   ]
  },
  {
   "cell_type": "code",
   "execution_count": 34,
   "metadata": {},
   "outputs": [
    {
     "data": {
      "text/plain": [
       "<tf.Tensor 'Tanh:0' shape=(?, 8192) dtype=float32>"
      ]
     },
     "execution_count": 34,
     "metadata": {},
     "output_type": "execute_result"
    }
   ],
   "source": [
    "fc1"
   ]
  },
  {
   "cell_type": "code",
   "execution_count": 40,
   "metadata": {},
   "outputs": [
    {
     "data": {
      "text/plain": [
       "<tf.Tensor 'Reshape_2:0' shape=(?, 8192) dtype=float32>"
      ]
     },
     "execution_count": 40,
     "metadata": {},
     "output_type": "execute_result"
    }
   ],
   "source": [
    "xOut"
   ]
  },
  {
   "cell_type": "code",
   "execution_count": null,
   "metadata": {
    "collapsed": true
   },
   "outputs": [],
   "source": []
  }
 ],
 "metadata": {
  "kernelspec": {
   "display_name": "Python 3",
   "language": "python",
   "name": "python3"
  },
  "language_info": {
   "codemirror_mode": {
    "name": "ipython",
    "version": 3
   },
   "file_extension": ".py",
   "mimetype": "text/x-python",
   "name": "python",
   "nbconvert_exporter": "python",
   "pygments_lexer": "ipython3",
   "version": "3.6.3"
  }
 },
 "nbformat": 4,
 "nbformat_minor": 2
}
