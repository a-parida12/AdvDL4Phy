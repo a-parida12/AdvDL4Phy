{
 "cells": [
  {
   "cell_type": "code",
   "execution_count": null,
   "metadata": {
    "collapsed": true
   },
   "outputs": [],
   "source": [
    "\n",
    "\n",
    "\n",
    "\n",
    "\n"
   ]
  },
  {
   "cell_type": "code",
   "execution_count": 58,
   "metadata": {},
   "outputs": [],
   "source": [
    "import tensorflow as tf\n",
    "import numpy as np\n",
    "import sys\n",
    "sys.path.append(\"/home/a_parida/MantaFlow/manta/tensorflow/tools/\")\n",
    "import uniio\n",
    "import glob\n",
    "import random\n",
    "import scipy.misc\n",
    "import os\n",
    "basePath = 'data/'"
   ]
  },
  {
   "cell_type": "code",
   "execution_count": 59,
   "metadata": {
    "collapsed": true
   },
   "outputs": [],
   "source": [
    "trainingEpochs = 10\n",
    "batchSize      = 10\n",
    "inSize         = 64 * 64 * 1"
   ]
  },
  {
   "cell_type": "code",
   "execution_count": 3,
   "metadata": {
    "collapsed": true
   },
   "outputs": [],
   "source": [
    "vel_files= glob.glob('./data/**/*.uni', recursive=True)\n",
    "# load data\n",
    "velocities = []"
   ]
  },
  {
   "cell_type": "code",
   "execution_count": 5,
   "metadata": {},
   "outputs": [
    {
     "name": "stdout",
     "output_type": "stream",
     "text": [
      "Read uni files, total data (1200, 64, 64, 2)\n",
      "Split into 1080 training and 120 validation samples\n"
     ]
    }
   ],
   "source": [
    "for uniPath in vel_files:\n",
    "    header, content = uniio.readUni(uniPath)# returns [Z,Y,X,C] np array\n",
    "    h = header['dimX']\n",
    "    w  = header['dimY']\n",
    "    arr = content[:, ::-1, :, :]  # reverse order of Y axis\n",
    "    arr = np.reshape(arr, [w, h, 3])\n",
    "    arr=arr[:,:,1:]# discard Z from [Z,Y,X]\n",
    "    velocities.append( arr )\n",
    "    \n",
    "loadNum = len(velocities)\n",
    "if loadNum<200:\n",
    "\tprint(\"Error - use at least two full sims, generate data by running 'manta ./manta_genSimSimple.py' a few times...\"); exit(1)\n",
    "\n",
    "velocities = np.reshape( velocities, (len(velocities), 64,64,2) )\n",
    "\n",
    "print(\"Read uni files, total data \" + format(velocities.shape) )\n",
    "valiSize = max(100, int(loadNum * 0.1)) # at least 1 full sim...\n",
    "valiData = velocities[loadNum-valiSize:loadNum,:]\n",
    "velocities  = velocities[0:loadNum-valiSize,:]\n",
    "print(\"Split into %d training and %d validation samples\" % (velocities.shape[0], valiData.shape[0]) )\n",
    "loadNum = velocities.shape[0]"
   ]
  },
  {
   "cell_type": "code",
   "execution_count": 6,
   "metadata": {
    "collapsed": true
   },
   "outputs": [],
   "source": [
    "def convolution2d(input, biases, weights, strides, padding_kind='SAME'):\n",
    "    input = tf.nn.conv2d(input, weights, strides, padding=padding_kind)\n",
    "    input = tf.nn.bias_add(input, biases)\n",
    "    input = tf.nn.leaky_relu(input)\n",
    "    return input"
   ]
  },
  {
   "cell_type": "code",
   "execution_count": 35,
   "metadata": {
    "collapsed": true
   },
   "outputs": [],
   "source": [
    "# the network structure \n",
    "xIn = tf.placeholder(tf.float32, shape=[None, 64,64, 2])\n",
    "y = tf.placeholder(tf.float32, shape=[None, 64,64,2])\n",
    "xOut=tf.reshape(y, shape=[-1, 64*64*2])"
   ]
  },
  {
   "cell_type": "code",
   "execution_count": 36,
   "metadata": {},
   "outputs": [],
   "source": [
    "weights1=tf.Variable(tf.random_normal([64,64,2,2], stddev=0.01))#weights==filters\n",
    "#[filter_height, filter_width, in_channels, out_channels]\n",
    "#bias=out_channels\n",
    "bias1=tf.Variable(tf.random_normal([2], stddev=0.01))\n",
    "stride1=[1,4,4,1]\n",
    "out1=convolution2d(xIn,bias1,weights1,stride1)"
   ]
  },
  {
   "cell_type": "code",
   "execution_count": 37,
   "metadata": {},
   "outputs": [],
   "source": [
    "weights2=tf.Variable(tf.random_normal([16,16,2,4], stddev=0.01))#weights==filters\n",
    "#[filter_height, filter_width, in_channels, out_channels]\n",
    "#bias=out_channels\n",
    "bias2=tf.Variable(tf.random_normal([4], stddev=0.01))\n",
    "stride2=[1,4,4,1]\n",
    "out2=convolution2d(out1,bias2,weights2,stride2)"
   ]
  },
  {
   "cell_type": "code",
   "execution_count": 38,
   "metadata": {},
   "outputs": [],
   "source": [
    "out2 = tf.reshape(out2, shape=[-1, 64 ]) # flatten\n",
    "fc_1weights = tf.Variable(tf.random_normal([64, 64*64*2], stddev=0.01))\n",
    "fc_1bias   = tf.Variable(tf.random_normal([64*64*2], stddev=0.01))\n",
    "fc1 = tf.add(tf.matmul(out2, fc_1weights), fc_1bias)\n",
    "fc1 = tf.nn.tanh(fc1)\n"
   ]
  },
  {
   "cell_type": "code",
   "execution_count": 41,
   "metadata": {},
   "outputs": [],
   "source": [
    "cost = tf.nn.l2_loss(fc1 - xOut)\n",
    "opt  = tf.train.AdamOptimizer(0.0001).minimize(cost)\n"
   ]
  },
  {
   "cell_type": "code",
   "execution_count": 42,
   "metadata": {},
   "outputs": [
    {
     "data": {
      "text/plain": [
       "<tf.Tensor 'L2Loss:0' shape=() dtype=float32>"
      ]
     },
     "execution_count": 42,
     "metadata": {},
     "output_type": "execute_result"
    }
   ],
   "source": [
    "cost"
   ]
  },
  {
   "cell_type": "code",
   "execution_count": 43,
   "metadata": {},
   "outputs": [
    {
     "data": {
      "text/plain": [
       "<tf.Operation 'Adam' type=NoOp>"
      ]
     },
     "execution_count": 43,
     "metadata": {},
     "output_type": "execute_result"
    }
   ],
   "source": [
    "opt"
   ]
  },
  {
   "cell_type": "code",
   "execution_count": 44,
   "metadata": {},
   "outputs": [
    {
     "name": "stdout",
     "output_type": "stream",
     "text": [
      "Starting training...\n"
     ]
    }
   ],
   "source": [
    "print(\"Starting training...\")\n",
    "sess = tf.InteractiveSession()\n",
    "sess.run(tf.global_variables_initializer())"
   ]
  },
  {
   "cell_type": "code",
   "execution_count": 61,
   "metadata": {
    "collapsed": true
   },
   "outputs": [],
   "source": [
    "def velocityFieldToPng(frameArray):\n",
    "    \"\"\" Returns an array that can be saved as png with scipy.misc.toimage\n",
    "    from a velocityField with shape [height, width, 2].\"\"\"\n",
    "    outputframeArray = np.zeros((frameArray.shape[0], frameArray.shape[1], 3))\n",
    "    for x in range(frameArray.shape[0]):\n",
    "        for y in range(frameArray.shape[1]):\n",
    "            # values above/below 1/-1 will be truncated by scipy\n",
    "            frameArray[y][x] = (frameArray[y][x] * 0.5) + 0.5\n",
    "            outputframeArray[y][x][0] = frameArray[y][x][0]\n",
    "            outputframeArray[y][x][1] = frameArray[y][x][1]\n",
    "    return outputframeArray"
   ]
  },
  {
   "cell_type": "code",
   "execution_count": 60,
   "metadata": {},
   "outputs": [
    {
     "name": "stdout",
     "output_type": "stream",
     "text": [
      "Epoch 9/100: cost 24.155813 , validation cost 328.309265 \n",
      "Epoch 19/100: cost 30.454882 , validation cost 337.375946 \n",
      "Epoch 29/100: cost 11.694822 , validation cost 334.139130 \n",
      "Epoch 39/100: cost 26.331802 , validation cost 329.936890 \n",
      "Epoch 49/100: cost 14.953149 , validation cost 328.907623 \n",
      "Epoch 59/100: cost 23.145868 , validation cost 329.361023 \n",
      "Epoch 69/100: cost 44.699745 , validation cost 327.370178 \n",
      "Epoch 79/100: cost 33.741924 , validation cost 329.561340 \n",
      "Epoch 89/100: cost 24.089920 , validation cost 325.685791 \n",
      "Epoch 99/100: cost 31.191666 , validation cost 322.962677 \n",
      "\n",
      " Training done. Writing 120 images from validation data to directory data//test_simple...\n"
     ]
    },
    {
     "name": "stderr",
     "output_type": "stream",
     "text": [
      "/home/a_parida/anaconda3/lib/python3.6/site-packages/ipykernel_launcher.py:17: DeprecationWarning: `toimage` is deprecated!\n",
      "`toimage` is deprecated in SciPy 1.0.0, and will be removed in 1.2.0.\n",
      "Use Pillow's ``Image.fromarray`` directly instead.\n"
     ]
    },
    {
     "ename": "ValueError",
     "evalue": "'arr' does not have a suitable array shape for any mode.",
     "output_type": "error",
     "traceback": [
      "\u001b[0;31m---------------------------------------------------------------------------\u001b[0m",
      "\u001b[0;31mValueError\u001b[0m                                Traceback (most recent call last)",
      "\u001b[0;32m<ipython-input-60-d681df98898f>\u001b[0m in \u001b[0;36m<module>\u001b[0;34m()\u001b[0m\n\u001b[1;32m     15\u001b[0m                         \u001b[0mprint\u001b[0m\u001b[0;34m(\u001b[0m\u001b[0;34m\"\\n Training done. Writing %d images from validation data to directory %s...\"\u001b[0m \u001b[0;34m%\u001b[0m \u001b[0;34m(\u001b[0m\u001b[0mlen\u001b[0m\u001b[0;34m(\u001b[0m\u001b[0mvaliData\u001b[0m\u001b[0;34m)\u001b[0m\u001b[0;34m,\u001b[0m\u001b[0moutDir\u001b[0m\u001b[0;34m)\u001b[0m \u001b[0;34m)\u001b[0m\u001b[0;34m\u001b[0m\u001b[0m\n\u001b[1;32m     16\u001b[0m                         \u001b[0;32mfor\u001b[0m \u001b[0mi\u001b[0m \u001b[0;32min\u001b[0m \u001b[0mrange\u001b[0m\u001b[0;34m(\u001b[0m\u001b[0mlen\u001b[0m\u001b[0;34m(\u001b[0m\u001b[0mvaliData\u001b[0m\u001b[0;34m)\u001b[0m\u001b[0;34m)\u001b[0m\u001b[0;34m:\u001b[0m\u001b[0;34m\u001b[0m\u001b[0m\n\u001b[0;32m---> 17\u001b[0;31m                                 \u001b[0mscipy\u001b[0m\u001b[0;34m.\u001b[0m\u001b[0mmisc\u001b[0m\u001b[0;34m.\u001b[0m\u001b[0mtoimage\u001b[0m\u001b[0;34m(\u001b[0m \u001b[0mnp\u001b[0m\u001b[0;34m.\u001b[0m\u001b[0mreshape\u001b[0m\u001b[0;34m(\u001b[0m\u001b[0mvaliData\u001b[0m\u001b[0;34m[\u001b[0m\u001b[0mi\u001b[0m\u001b[0;34m]\u001b[0m\u001b[0;34m,\u001b[0m \u001b[0;34m[\u001b[0m\u001b[0;36m64\u001b[0m\u001b[0;34m,\u001b[0m \u001b[0;36m64\u001b[0m\u001b[0;34m,\u001b[0m\u001b[0;36m2\u001b[0m\u001b[0;34m]\u001b[0m\u001b[0;34m)\u001b[0m \u001b[0;34m,\u001b[0m \u001b[0mcmin\u001b[0m\u001b[0;34m=\u001b[0m\u001b[0;36m0.0\u001b[0m\u001b[0;34m,\u001b[0m \u001b[0mcmax\u001b[0m\u001b[0;34m=\u001b[0m\u001b[0;36m1.0\u001b[0m\u001b[0;34m)\u001b[0m\u001b[0;34m.\u001b[0m\u001b[0msave\u001b[0m\u001b[0;34m(\u001b[0m\u001b[0;34m\"%s/in_%d.png\"\u001b[0m \u001b[0;34m%\u001b[0m \u001b[0;34m(\u001b[0m\u001b[0moutDir\u001b[0m\u001b[0;34m,\u001b[0m\u001b[0mi\u001b[0m\u001b[0;34m)\u001b[0m\u001b[0;34m)\u001b[0m\u001b[0;34m\u001b[0m\u001b[0m\n\u001b[0m\u001b[1;32m     18\u001b[0m                                 \u001b[0mscipy\u001b[0m\u001b[0;34m.\u001b[0m\u001b[0mmisc\u001b[0m\u001b[0;34m.\u001b[0m\u001b[0mtoimage\u001b[0m\u001b[0;34m(\u001b[0m \u001b[0mnp\u001b[0m\u001b[0;34m.\u001b[0m\u001b[0mreshape\u001b[0m\u001b[0;34m(\u001b[0m\u001b[0mvout\u001b[0m\u001b[0;34m[\u001b[0m\u001b[0mi\u001b[0m\u001b[0;34m]\u001b[0m    \u001b[0;34m,\u001b[0m \u001b[0;34m[\u001b[0m\u001b[0;36m64\u001b[0m\u001b[0;34m,\u001b[0m \u001b[0;36m64\u001b[0m\u001b[0;34m,\u001b[0m\u001b[0;36m2\u001b[0m\u001b[0;34m]\u001b[0m\u001b[0;34m)\u001b[0m \u001b[0;34m,\u001b[0m \u001b[0mcmin\u001b[0m\u001b[0;34m=\u001b[0m\u001b[0;36m0.0\u001b[0m\u001b[0;34m,\u001b[0m \u001b[0mcmax\u001b[0m\u001b[0;34m=\u001b[0m\u001b[0;36m1.0\u001b[0m\u001b[0;34m)\u001b[0m\u001b[0;34m.\u001b[0m\u001b[0msave\u001b[0m\u001b[0;34m(\u001b[0m\u001b[0;34m\"%s/out_%d.png\"\u001b[0m \u001b[0;34m%\u001b[0m \u001b[0;34m(\u001b[0m\u001b[0moutDir\u001b[0m\u001b[0;34m,\u001b[0m\u001b[0mi\u001b[0m\u001b[0;34m)\u001b[0m\u001b[0;34m)\u001b[0m\u001b[0;34m\u001b[0m\u001b[0m\n\u001b[1;32m     19\u001b[0m \u001b[0;34m\u001b[0m\u001b[0m\n",
      "\u001b[0;32m~/anaconda3/lib/python3.6/site-packages/numpy/lib/utils.py\u001b[0m in \u001b[0;36mnewfunc\u001b[0;34m(*args, **kwds)\u001b[0m\n\u001b[1;32m     99\u001b[0m             \u001b[0;34m\"\"\"`arrayrange` is deprecated, use `arange` instead!\"\"\"\u001b[0m\u001b[0;34m\u001b[0m\u001b[0m\n\u001b[1;32m    100\u001b[0m             \u001b[0mwarnings\u001b[0m\u001b[0;34m.\u001b[0m\u001b[0mwarn\u001b[0m\u001b[0;34m(\u001b[0m\u001b[0mdepdoc\u001b[0m\u001b[0;34m,\u001b[0m \u001b[0mDeprecationWarning\u001b[0m\u001b[0;34m,\u001b[0m \u001b[0mstacklevel\u001b[0m\u001b[0;34m=\u001b[0m\u001b[0;36m2\u001b[0m\u001b[0;34m)\u001b[0m\u001b[0;34m\u001b[0m\u001b[0m\n\u001b[0;32m--> 101\u001b[0;31m             \u001b[0;32mreturn\u001b[0m \u001b[0mfunc\u001b[0m\u001b[0;34m(\u001b[0m\u001b[0;34m*\u001b[0m\u001b[0margs\u001b[0m\u001b[0;34m,\u001b[0m \u001b[0;34m**\u001b[0m\u001b[0mkwds\u001b[0m\u001b[0;34m)\u001b[0m\u001b[0;34m\u001b[0m\u001b[0m\n\u001b[0m\u001b[1;32m    102\u001b[0m \u001b[0;34m\u001b[0m\u001b[0m\n\u001b[1;32m    103\u001b[0m         \u001b[0mnewfunc\u001b[0m \u001b[0;34m=\u001b[0m \u001b[0m_set_function_name\u001b[0m\u001b[0;34m(\u001b[0m\u001b[0mnewfunc\u001b[0m\u001b[0;34m,\u001b[0m \u001b[0mold_name\u001b[0m\u001b[0;34m)\u001b[0m\u001b[0;34m\u001b[0m\u001b[0m\n",
      "\u001b[0;32m~/anaconda3/lib/python3.6/site-packages/scipy/misc/pilutil.py\u001b[0m in \u001b[0;36mtoimage\u001b[0;34m(arr, high, low, cmin, cmax, pal, mode, channel_axis)\u001b[0m\n\u001b[1;32m    324\u001b[0m                                 ((3 in shape) or (4 in shape)))\n\u001b[1;32m    325\u001b[0m     \u001b[0;32mif\u001b[0m \u001b[0;32mnot\u001b[0m \u001b[0mvalid\u001b[0m\u001b[0;34m:\u001b[0m\u001b[0;34m\u001b[0m\u001b[0m\n\u001b[0;32m--> 326\u001b[0;31m         raise ValueError(\"'arr' does not have a suitable array shape for \"\n\u001b[0m\u001b[1;32m    327\u001b[0m                          \"any mode.\")\n\u001b[1;32m    328\u001b[0m     \u001b[0;32mif\u001b[0m \u001b[0mlen\u001b[0m\u001b[0;34m(\u001b[0m\u001b[0mshape\u001b[0m\u001b[0;34m)\u001b[0m \u001b[0;34m==\u001b[0m \u001b[0;36m2\u001b[0m\u001b[0;34m:\u001b[0m\u001b[0;34m\u001b[0m\u001b[0m\n",
      "\u001b[0;31mValueError\u001b[0m: 'arr' does not have a suitable array shape for any mode."
     ]
    }
   ],
   "source": [
    "for epoch in range(trainingEpochs):\n",
    "\tbatch = []\n",
    "\tfor currNo in range(0, batchSize):\n",
    "\t\tr = random.randint(0, loadNum-1)\n",
    "\t\tbatch.append( velocities[r] )\n",
    "\n",
    "\t_ , currentCost = sess.run([opt, cost], feed_dict={xIn: batch, y: batch})\n",
    "\tif epoch%10==9 or epoch==trainingEpochs-1:\n",
    "\t\t[valiCost,vout] = sess.run([cost, fc1], feed_dict={xIn: valiData, y: valiData})\n",
    "\t\tprint(\"Epoch %d/%d: cost %f , validation cost %f \" % (epoch, trainingEpochs, currentCost, valiCost) )\n",
    "\n",
    "\t\tif epoch==trainingEpochs-1:\n",
    "\t\t\toutDir = \"./test_simple\"\n",
    "\t\t\tif not os.path.exists(outDir): os.makedirs(outDir)\n",
    "\t\t\tprint(\"\\n Training done. Writing %d images from validation data to directory %s...\" % (len(valiData),outDir) )\n",
    "\t\t\tfor i in range(len(valiData)):\n",
    "\t\t\t\tscipy.misc.toimage(velocityFieldToPng( np.reshape(valiData[i], [64, 64,2])) , cmin=0.0, cmax=1.0).save(\"%s/in_%d.png\" % (outDir,i))\n",
    "\t\t\t\tscipy.misc.toimage(velocityFieldToPng( np.reshape(vout[i]    , [64, 64,2])) , cmin=0.0, cmax=1.0).save(\"%s/out_%d.png\" % (outDir,i))\n",
    "\n",
    "\n"
   ]
  },
  {
   "cell_type": "code",
   "execution_count": 46,
   "metadata": {},
   "outputs": [
    {
     "data": {
      "text/plain": [
       "1080"
      ]
     },
     "execution_count": 46,
     "metadata": {},
     "output_type": "execute_result"
    }
   ],
   "source": [
    "velocities.shape[0]"
   ]
  },
  {
   "cell_type": "code",
   "execution_count": 47,
   "metadata": {},
   "outputs": [
    {
     "data": {
      "text/plain": [
       "8192"
      ]
     },
     "execution_count": 47,
     "metadata": {},
     "output_type": "execute_result"
    }
   ],
   "source": [
    "64*64*2\n"
   ]
  },
  {
   "cell_type": "code",
   "execution_count": 49,
   "metadata": {
    "collapsed": true
   },
   "outputs": [],
   "source": [
    "import random"
   ]
  },
  {
   "cell_type": "code",
   "execution_count": null,
   "metadata": {
    "collapsed": true
   },
   "outputs": [],
   "source": []
  }
 ],
 "metadata": {
  "kernelspec": {
   "display_name": "Python 3",
   "language": "python",
   "name": "python3"
  },
  "language_info": {
   "codemirror_mode": {
    "name": "ipython",
    "version": 3
   },
   "file_extension": ".py",
   "mimetype": "text/x-python",
   "name": "python",
   "nbconvert_exporter": "python",
   "pygments_lexer": "ipython3",
   "version": "3.6.3"
  }
 },
 "nbformat": 4,
 "nbformat_minor": 2
}
