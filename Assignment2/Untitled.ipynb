{
 "cells": [
  {
   "cell_type": "code",
   "execution_count": null,
   "metadata": {
    "collapsed": true
   },
   "outputs": [],
   "source": [
    "\n",
    "\n",
    "\n",
    "\n",
    "\n"
   ]
  },
  {
   "cell_type": "code",
   "execution_count": 3,
   "metadata": {},
   "outputs": [],
   "source": [
    "import tensorflow as tf\n",
    "import numpy as np\n",
    "import sys\n",
    "sys.path.append(\"/home/a_parida/MantaFlow/manta/tensorflow/tools/\")\n",
    "import uniio\n",
    "import glob\n",
    "basePath = 'data/'"
   ]
  },
  {
   "cell_type": "code",
   "execution_count": 4,
   "metadata": {
    "collapsed": true
   },
   "outputs": [],
   "source": [
    "trainingEpochs = 10000\n",
    "batchSize      = 10\n",
    "inSize         = 64 * 64 * 1"
   ]
  },
  {
   "cell_type": "code",
   "execution_count": 59,
   "metadata": {
    "collapsed": true
   },
   "outputs": [],
   "source": [
    "vel_files= glob.glob('./data/**/*.uni', recursive=True)\n",
    "# load data\n",
    "velocities = []"
   ]
  },
  {
   "cell_type": "code",
   "execution_count": 60,
   "metadata": {},
   "outputs": [
    {
     "name": "stdout",
     "output_type": "stream",
     "text": [
      "Read uni files, total data (600, 64, 64, 2)\n",
      "Split into 501 training and 99 validation samples\n"
     ]
    }
   ],
   "source": [
    "for uniPath in vel_files:\n",
    "    header, content = uniio.readUni(uniPath)# returns [Z,Y,X,C] np array\n",
    "    h = header['dimX']\n",
    "    w  = header['dimY']\n",
    "    arr = content[:, ::-1, :, :]  # reverse order of Y axis\n",
    "    arr = np.reshape(arr, [w, h, 3])\n",
    "    arr=arr[:,:,1:]# discard Z from [Z,Y,X]\n",
    "    velocities.append( arr )\n",
    "    \n",
    "loadNum = len(densities)\n",
    "if loadNum<200:\n",
    "\tprint(\"Error - use at least two full sims, generate data by running 'manta ./manta_genSimSimple.py' a few times...\"); exit(1)\n",
    "\n",
    "velocities = np.reshape( velocities, (len(velocities), 64,64,2) )\n",
    "\n",
    "print(\"Read uni files, total data \" + format(velocities.shape) )\n",
    "valiSize = max(100, int(loadNum * 0.1)) # at least 1 full sim...\n",
    "valiData = velocities[loadNum-valiSize:loadNum,:]\n",
    "velocities  = velocities[0:loadNum-valiSize,:]\n",
    "print(\"Split into %d training and %d validation samples\" % (velocities.shape[0], valiData.shape[0]) )\n",
    "loadNum = velocities.shape[0]"
   ]
  },
  {
   "cell_type": "code",
   "execution_count": null,
   "metadata": {
    "collapsed": true
   },
   "outputs": [],
   "source": []
  }
 ],
 "metadata": {
  "kernelspec": {
   "display_name": "Python 3",
   "language": "python",
   "name": "python3"
  },
  "language_info": {
   "codemirror_mode": {
    "name": "ipython",
    "version": 3
   },
   "file_extension": ".py",
   "mimetype": "text/x-python",
   "name": "python",
   "nbconvert_exporter": "python",
   "pygments_lexer": "ipython3",
   "version": "3.6.3"
  }
 },
 "nbformat": 4,
 "nbformat_minor": 2
}
