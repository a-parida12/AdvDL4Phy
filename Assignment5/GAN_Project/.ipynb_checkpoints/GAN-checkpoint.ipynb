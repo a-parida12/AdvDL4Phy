{
 "cells": [
  {
   "cell_type": "code",
   "execution_count": 7,
   "metadata": {},
   "outputs": [],
   "source": [
    "import numpy as np\n",
    "import pickle"
   ]
  },
  {
   "cell_type": "code",
   "execution_count": 5,
   "metadata": {},
   "outputs": [],
   "source": [
    "vel_files= glob.glob('./data/**/*.uni', recursive=True)\n",
    "# load data\n",
    "velocities = []\n",
    "\n",
    "for uniPath in vel_files:\n",
    "    header, content = uniio.readUni(uniPath)# returns [Z,Y,X,C] np array\n",
    "    h = header['dimX']\n",
    "    w  = header['dimY']\n",
    "    arr = content[:, ::-1, :, :-1]  # reverse order of Y axis\n",
    "    arr = np.reshape(arr, [w, h, 2])# discard Z from [Z,Y,X]\n",
    "    velocities.append( arr )\n",
    "\n",
    "loadNum = len(velocities)\n",
    "if loadNum<200:\n",
    "\tprint(\"Error - use at least two full sims, generate data by running 'manta ./manta_genSimSimple.py' a few times...\"); exit(1)\n",
    "\n",
    "velocities = np.reshape( velocities, (len(velocities), 64,64,2) )"
   ]
  },
  {
   "cell_type": "code",
   "execution_count": 10,
   "metadata": {},
   "outputs": [],
   "source": [
    "with open('./data/velocity.pickle', 'wb') as handle:\n",
    "    pickle.dump(velocities, handle)"
   ]
  },
  {
   "cell_type": "code",
   "execution_count": null,
   "metadata": {
    "collapsed": true
   },
   "outputs": [],
   "source": []
  }
 ],
 "metadata": {
  "kernelspec": {
   "display_name": "Python 3",
   "language": "python",
   "name": "python3"
  },
  "language_info": {
   "codemirror_mode": {
    "name": "ipython",
    "version": 3
   },
   "file_extension": ".py",
   "mimetype": "text/x-python",
   "name": "python",
   "nbconvert_exporter": "python",
   "pygments_lexer": "ipython3",
   "version": "3.6.3"
  }
 },
 "nbformat": 4,
 "nbformat_minor": 2
}
